{
  "cells": [
    {
      "cell_type": "markdown",
      "metadata": {
        "id": "view-in-github",
        "colab_type": "text"
      },
      "source": [
        "<a href=\"https://colab.research.google.com/github/Vishwas2629/Dissertation/blob/main/ML.ipynb\" target=\"_parent\"><img src=\"https://colab.research.google.com/assets/colab-badge.svg\" alt=\"Open In Colab\"/></a>"
      ]
    },
    {
      "cell_type": "code",
      "execution_count": null,
      "metadata": {
        "id": "7QG7sxmoCIvN"
      },
      "outputs": [],
      "source": [
        "import numpy as np\n",
        "import matplotlib.pyplot as plt\n",
        "import pandas as pd\n",
        "import nltk\n",
        "import re"
      ]
    },
    {
      "cell_type": "code",
      "execution_count": null,
      "metadata": {
        "id": "UCK6vQ5QCQJe"
      },
      "outputs": [],
      "source": [
        "dataset = pd.read_csv('IMDB_Dataset.csv', encoding = 'utf-8')"
      ]
    },
    {
      "cell_type": "code",
      "execution_count": null,
      "metadata": {
        "id": "DyJJyP19hFna"
      },
      "outputs": [],
      "source": [
        "from nltk.corpus import stopwords\n",
        "from nltk.stem.porter import PorterStemmer\n",
        "from bs4 import BeautifulSoup\n",
        "import pickle\n"
      ]
    },
    {
      "cell_type": "code",
      "execution_count": null,
      "metadata": {
        "colab": {
          "base_uri": "https://localhost:8080/"
        },
        "id": "J2lUH59ShNlA",
        "outputId": "2ce8ab32-1322-4008-9235-f65b7d2c1873"
      },
      "outputs": [
        {
          "name": "stdout",
          "output_type": "stream",
          "text": [
            "50000\n"
          ]
        }
      ],
      "source": [
        "imdb_data_len = len(dataset.iloc[:, 0])\n",
        "print(imdb_data_len)"
      ]
    },
    {
      "cell_type": "code",
      "execution_count": null,
      "metadata": {
        "id": "aEoiJ66uhfd_"
      },
      "outputs": [],
      "source": [
        "all_stopwords = stopwords.words('english')\n",
        "all_stopwords.remove('not')\n",
        "\n",
        "ps = PorterStemmer()\n",
        "\n",
        "\n",
        "# new list with cleaned data\n",
        "corpus = []\n",
        "for i in range(imdb_data_len): # this can also be written as imdb_data['review']\n",
        "  review = BeautifulSoup(dataset['review'][i], \"html.parser\").get_text()\n",
        "  review = re.sub('\\[[^]]*\\]',' ',review)\n",
        "  review = re.sub('[^a-zA-Z]',' ',review)\n",
        "  review = review.lower()\n",
        "  review = review.split()\n",
        "\n",
        "  review = [ps.stem(word) for word in review if not word in set(all_stopwords)]\n",
        "  review = ' '.join(review)\n",
        "\n",
        "  corpus.append(review)\n",
        "    "
      ]
    },
    {
      "cell_type": "code",
      "execution_count": null,
      "metadata": {
        "colab": {
          "base_uri": "https://localhost:8080/"
        },
        "id": "W5UwJK-oGFmC",
        "outputId": "0d18a132-bb6a-4027-b3c9-567f2793464d"
      },
      "outputs": [
        {
          "name": "stdout",
          "output_type": "stream",
          "text": [
            "basic famili littl boy jake think zombi closet parent fight time movi slower soap opera suddenli jake decid becom rambo kill zombi ok first go make film must decid thriller drama drama movi watchabl parent divorc argu like real life jake closet total ruin film expect see boogeyman similar movi instead watch drama meaningless thriller spot well play parent descent dialog shot jake ignor\n"
          ]
        }
      ],
      "source": [
        "print(corpus[3])"
      ]
    },
    {
      "cell_type": "code",
      "execution_count": null,
      "metadata": {
        "id": "qroF7XcSCvY3"
      },
      "outputs": [],
      "source": [
        "#Creating bag of words\n",
        "from sklearn.feature_extraction.text import CountVectorizer\n",
        "cv = CountVectorizer(max_features = 5000)\n",
        "X = cv.fit_transform(corpus).toarray()\n",
        "y = dataset.iloc[:, -1].values"
      ]
    },
    {
      "cell_type": "code",
      "execution_count": null,
      "metadata": {
        "colab": {
          "base_uri": "https://localhost:8080/"
        },
        "id": "Bgyhs_dS3UOH",
        "outputId": "b10f9774-c0a8-483a-bcc1-43092e2852c1"
      },
      "outputs": [
        {
          "name": "stdout",
          "output_type": "stream",
          "text": [
            "[0 0 0 ... 2 0 0]\n"
          ]
        }
      ],
      "source": [
        "print(X[3])"
      ]
    },
    {
      "cell_type": "code",
      "execution_count": null,
      "metadata": {
        "id": "nxHgwLwR2Ytw"
      },
      "outputs": [],
      "source": [
        "y = dataset['sentiment']\n",
        "y = np.array(list(map(lambda x: 1 if x == \"positive\" else 0, y)))"
      ]
    },
    {
      "cell_type": "code",
      "execution_count": null,
      "metadata": {
        "id": "qQXYM5VzDDDI"
      },
      "outputs": [],
      "source": [
        "from sklearn.model_selection import train_test_split\n",
        "X_train, X_test, y_train, y_test = train_test_split(X, y, test_size = 0.20, random_state = 0)"
      ]
    },
    {
      "cell_type": "code",
      "execution_count": null,
      "metadata": {
        "id": "PPjLL4ja9hBZ"
      },
      "outputs": [],
      "source": [
        "from sklearn.metrics import accuracy_score, classification_report, confusion_matrix\n",
        "\n",
        "def metrics(clf, X_train, y_train, X_test, y_test, train=True):\n",
        "    if train:\n",
        "        pred = clf.predict(X_train)\n",
        "        clf_report = pd.DataFrame(classification_report(y_train, pred, output_dict=True))\n",
        "        print(\"Train Result:\\n================================================\")\n",
        "        print(f\"Accuracy Score: {accuracy_score(y_train, pred) * 100:.2f}%\")\n",
        "        print(\"_______________________________________________\")\n",
        "        print(f\"Classification Report:\\n{clf_report}\")\n",
        "        print(\"_______________________________________________\")\n",
        "        print(f\"Confusion Matrix:\\n {confusion_matrix(y_train, pred)}\\n\")\n",
        "        \n",
        "    elif train==False:\n",
        "        pred = clf.predict(X_test)\n",
        "        clf_report = pd.DataFrame(classification_report(y_test, pred, output_dict=True))\n",
        "        print(\"Test Result:\\n================================================\")        \n",
        "        print(f\"Accuracy Score: {accuracy_score(y_test, pred) * 100:.2f}%\")\n",
        "        print(\"_______________________________________________\")\n",
        "        print(f\"Classification Report:\\n{clf_report}\")\n",
        "        print(\"_______________________________________________\")\n",
        "        print(f\"Confusion Matrix:\\n {confusion_matrix(y_test, pred)}\\n\")"
      ]
    },
    {
      "cell_type": "markdown",
      "metadata": {
        "id": "2HlVxGPW2kVO"
      },
      "source": [
        "## Decision Tree "
      ]
    },
    {
      "cell_type": "code",
      "execution_count": null,
      "metadata": {
        "id": "DS9oiDXXDRdI"
      },
      "outputs": [],
      "source": [
        "from sklearn.tree import DecisionTreeClassifier\n",
        "classifier1 = DecisionTreeClassifier(criterion= \"gini\", random_state= 0, max_depth = 5)\n",
        "classifier1.fit(X_train, y_train)"
      ]
    },
    {
      "cell_type": "code",
      "execution_count": null,
      "metadata": {
        "id": "mIx2MhC32tXi"
      },
      "outputs": [],
      "source": [
        "y_pred = classifier1.predict(X_test)\n",
        "print(np.concatenate((y_pred.reshape(len(y_pred),1), y_test.reshape(len(y_test),1)),1))"
      ]
    },
    {
      "cell_type": "code",
      "execution_count": null,
      "metadata": {
        "id": "ykKiR86q2x3y"
      },
      "outputs": [],
      "source": [
        "metrics(classifier1, X_train, y_train, X_test, y_test, train=True)\n",
        "metrics(classifier1, X_train, y_train, X_test, y_test, train=False)"
      ]
    },
    {
      "cell_type": "code",
      "execution_count": null,
      "metadata": {
        "id": "sUGLYeqs9hBc"
      },
      "outputs": [],
      "source": [
        "from sklearn.model_selection import cross_val_score\n",
        "accuracies = cross_val_score(estimator = classifier1, X = X_train, y = y_train, cv = 5)\n",
        "print(\"Accuracy: {:.2f} %\".format(accuracies.mean()*100))\n",
        "print(\"SD: {:.2f} %\".format(accuracies.std()*100))\n"
      ]
    },
    {
      "cell_type": "markdown",
      "metadata": {
        "id": "EixdEpbe4Cei"
      },
      "source": [
        "# XG Boost Classifier"
      ]
    },
    {
      "cell_type": "code",
      "execution_count": null,
      "metadata": {
        "id": "A45cIGVZjRt_"
      },
      "outputs": [],
      "source": [
        "from xgboost import XGBClassifier\n",
        "classifier3 = XGBClassifier(max_depth = 5, n_estimators = 10, random_state= 0)\n",
        "classifier3.fit(X_train, y_train)"
      ]
    },
    {
      "cell_type": "code",
      "execution_count": null,
      "metadata": {
        "id": "SRJSHeWG4JZe"
      },
      "outputs": [],
      "source": [
        "y_pred = classifier3.predict(X_test)\n",
        "print(np.concatenate((y_pred.reshape(len(y_pred),1), y_test.reshape(len(y_test),1)),1))"
      ]
    },
    {
      "cell_type": "code",
      "execution_count": null,
      "metadata": {
        "id": "E5kuc8pU5f4v"
      },
      "outputs": [],
      "source": [
        "metrics(classifier3, X_train, y_train, X_test, y_test, train=True)\n",
        "metrics(classifier3, X_train, y_train, X_test, y_test, train=False)"
      ]
    },
    {
      "cell_type": "code",
      "execution_count": null,
      "metadata": {
        "id": "lN109YW19hBe"
      },
      "outputs": [],
      "source": [
        "from sklearn.model_selection import cross_val_score\n",
        "accuracies = cross_val_score(estimator = classifier3, X = X_train, y = y_train, cv = 5)\n",
        "print(\"Accuracy: {:.2f} %\".format(accuracies.mean()*100))\n",
        "print(\"SD: {:.2f} %\".format(accuracies.std()*100))\n"
      ]
    },
    {
      "cell_type": "markdown",
      "metadata": {
        "id": "WRPEeI-P6cem"
      },
      "source": [
        "## Naive Bayes"
      ]
    },
    {
      "cell_type": "code",
      "execution_count": null,
      "metadata": {
        "id": "UxlM9ufxko8E"
      },
      "outputs": [],
      "source": [
        "from sklearn.naive_bayes import GaussianNB\n",
        "classifier5 = GaussianNB()\n",
        "classifier5.fit(X_train,y_train)"
      ]
    },
    {
      "cell_type": "code",
      "execution_count": null,
      "metadata": {
        "id": "Iif0CVhFDaMp"
      },
      "outputs": [],
      "source": [
        "y_pred = classifier5.predict(X_test)\n",
        "print(np.concatenate((y_pred.reshape(len(y_pred),1), y_test.reshape(len(y_test),1)),1))"
      ]
    },
    {
      "cell_type": "code",
      "execution_count": null,
      "metadata": {
        "id": "Xj9IU6MxDnvo"
      },
      "outputs": [],
      "source": [
        "metrics(classifier5, X_train, y_train, X_test, y_test, train=True)\n",
        "metrics(classifier5, X_train, y_train, X_test, y_test, train=False)"
      ]
    },
    {
      "cell_type": "code",
      "execution_count": null,
      "metadata": {
        "id": "dBc_9e5-9hBg"
      },
      "outputs": [],
      "source": [
        "from sklearn.model_selection import cross_val_score\n",
        "accuracies = cross_val_score(estimator = classifier5, X = X_train, y = y_train, cv = 5)\n",
        "print(\"Accuracy: {:.2f} %\".format(accuracies.mean()*100))\n",
        "print(\"SD: {:.2f} %\".format(accuracies.std()*100))\n"
      ]
    },
    {
      "cell_type": "markdown",
      "metadata": {
        "id": "VNAcnznq3nxt"
      },
      "source": [
        "# SVM"
      ]
    },
    {
      "cell_type": "code",
      "execution_count": null,
      "metadata": {
        "id": "s93rmwTFjK7g",
        "outputId": "5cde9b49-92f5-4301-9036-1cd736421bbb"
      },
      "outputs": [
        {
          "data": {
            "text/plain": [
              "SGDClassifier(alpha=0.1, random_state=0)"
            ]
          },
          "execution_count": 25,
          "metadata": {},
          "output_type": "execute_result"
        }
      ],
      "source": [
        "from sklearn.linear_model import SGDClassifier\n",
        "classifierSVM = SGDClassifier(alpha = 0.1, random_state = 0)\n",
        "classifierSVM.fit(X_train, y_train)"
      ]
    },
    {
      "cell_type": "code",
      "execution_count": null,
      "metadata": {
        "id": "sKOVkznO3r2_",
        "outputId": "5f29948d-07c3-4373-8074-f55c134fba93"
      },
      "outputs": [
        {
          "name": "stdout",
          "output_type": "stream",
          "text": [
            "[[1 1]\n",
            " [0 0]\n",
            " [1 0]\n",
            " ...\n",
            " [1 1]\n",
            " [0 1]\n",
            " [0 0]]\n"
          ]
        }
      ],
      "source": [
        "y_pred = classifierSVM.predict(X_test)     \n",
        "print(np.concatenate((y_pred.reshape(len(y_pred),1), y_test.reshape(len(y_test),1)),1))"
      ]
    },
    {
      "cell_type": "code",
      "execution_count": null,
      "metadata": {
        "id": "8Qe1v8hX31Sq",
        "outputId": "f90598d9-e88d-4d3a-ed22-3873f6624822"
      },
      "outputs": [
        {
          "name": "stdout",
          "output_type": "stream",
          "text": [
            "Train Result:\n",
            "================================================\n",
            "Accuracy Score: 86.18%\n",
            "_______________________________________________\n",
            "Classification Report:\n",
            "                      0             1  accuracy     macro avg  weighted avg\n",
            "precision      0.879787      0.845560  0.861825      0.862674      0.862644\n",
            "recall         0.837616      0.885950  0.861825      0.861783      0.861825\n",
            "f1-score       0.858184      0.865284  0.861825      0.861734      0.861740\n",
            "support    19965.000000  20035.000000  0.861825  40000.000000  40000.000000\n",
            "_______________________________________________\n",
            "Confusion Matrix:\n",
            " [[16723  3242]\n",
            " [ 2285 17750]]\n",
            "\n",
            "Test Result:\n",
            "================================================\n",
            "Accuracy Score: 85.13%\n",
            "_______________________________________________\n",
            "Classification Report:\n",
            "                     0            1  accuracy     macro avg  weighted avg\n",
            "precision     0.867745     0.835974    0.8513      0.851859      0.851970\n",
            "recall        0.831380     0.871501    0.8513      0.851440      0.851300\n",
            "f1-score      0.849173     0.853368    0.8513      0.851270      0.851256\n",
            "support    5035.000000  4965.000000    0.8513  10000.000000  10000.000000\n",
            "_______________________________________________\n",
            "Confusion Matrix:\n",
            " [[4186  849]\n",
            " [ 638 4327]]\n",
            "\n"
          ]
        }
      ],
      "source": [
        "metrics(classifierSVM, X_train, y_train, X_test, y_test, train=True)\n",
        "metrics(classifierSVM, X_train, y_train, X_test, y_test, train=False)"
      ]
    },
    {
      "cell_type": "code",
      "execution_count": null,
      "metadata": {
        "id": "bbjmznc-9hBh",
        "outputId": "9fb10a95-930b-4997-9c16-227e096a4375"
      },
      "outputs": [
        {
          "name": "stdout",
          "output_type": "stream",
          "text": [
            "Accuracy: 85.55 %\n",
            "SD: 0.47 %\n"
          ]
        }
      ],
      "source": [
        "from sklearn.model_selection import cross_val_score\n",
        "accuracies = cross_val_score(estimator = classifierSVM, X = X_train, y = y_train, cv = 5)\n",
        "print(\"Accuracy: {:.2f} %\".format(accuracies.mean()*100))\n",
        "print(\"SD: {:.2f} %\".format(accuracies.std()*100))\n"
      ]
    },
    {
      "cell_type": "markdown",
      "metadata": {
        "id": "xBltULAW9hBh"
      },
      "source": [
        "Random Forest"
      ]
    },
    {
      "cell_type": "code",
      "execution_count": null,
      "metadata": {
        "id": "TgER28Qb9hBi"
      },
      "outputs": [],
      "source": [
        "from sklearn.ensemble import RandomForestClassifier\n",
        "classifierRM = RandomForestClassifier(n_estimators= 5, max_depth = 5,criterion= 'entropy', random_state = 0 )\n",
        "classifierRM.fit(X_train, y_train)"
      ]
    },
    {
      "cell_type": "code",
      "execution_count": null,
      "metadata": {
        "id": "QQ5cWfF59hBi"
      },
      "outputs": [],
      "source": [
        "y_pred = classifierRM.predict(X_test)     \n",
        "print(np.concatenate((y_pred.reshape(len(y_pred),1), y_test.reshape(len(y_test),1)),1))"
      ]
    },
    {
      "cell_type": "code",
      "execution_count": null,
      "metadata": {
        "id": "EDtK5SVR9hBi"
      },
      "outputs": [],
      "source": [
        "metrics(classifierRM, X_train, y_train, X_test, y_test, train=True)\n",
        "metrics(classifierRM, X_train, y_train, X_test, y_test, train=False)"
      ]
    },
    {
      "cell_type": "code",
      "execution_count": null,
      "metadata": {
        "id": "DgwoOANB9hBi"
      },
      "outputs": [],
      "source": [
        "from sklearn.model_selection import cross_val_score\n",
        "accuracies = cross_val_score(estimator = classifierRM, X = X_train, y = y_train, cv = 5)\n",
        "print(\"Accuracy: {:.2f} %\".format(accuracies.mean()*100))\n",
        "print(\"SD: {:.2f} %\".format(accuracies.std()*100))\n"
      ]
    },
    {
      "cell_type": "code",
      "execution_count": null,
      "metadata": {
        "id": "TpYxcvxA9hBi"
      },
      "outputs": [],
      "source": [
        ""
      ]
    }
  ],
  "metadata": {
    "colab": {
      "collapsed_sections": [],
      "name": "ML.ipynb",
      "provenance": [],
      "include_colab_link": true
    },
    "kernelspec": {
      "display_name": "Python 3",
      "language": "python",
      "name": "python3"
    },
    "language_info": {
      "codemirror_mode": {
        "name": "ipython",
        "version": 3
      },
      "file_extension": ".py",
      "mimetype": "text/x-python",
      "name": "python",
      "nbconvert_exporter": "python",
      "pygments_lexer": "ipython3",
      "version": "3.8.8"
    }
  },
  "nbformat": 4,
  "nbformat_minor": 0
}